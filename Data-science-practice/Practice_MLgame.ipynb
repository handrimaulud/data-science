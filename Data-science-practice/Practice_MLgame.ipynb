{
 "cells": [
  {
   "cell_type": "code",
   "execution_count": 16,
   "id": "chief-karaoke",
   "metadata": {},
   "outputs": [],
   "source": [
    "import pandas as pd\n",
    "data = [['Esmeralda','Granger','Miya','Cyclop','Sun','Franco','Alucard','Nana','Saber','Silvana','Rank','Mythic','Win'],\n",
    "       ['Natalia','Atlas','Bane','Selena','Harley','Tigreal','Lesley','Lancelot','Chou','Luo Yi','Rank','Mythic','Win'],\n",
    "       ['Silvana','Moskov','Selena','Guinivere','Karina','Luo Yi','Cyborg','Kimmy','Jhonson','Vale','Rank','Mythic','Win'],\n",
    "       ['Diggie','Change','Lapu lapu','Jawhead','Brody','Miya','Clint','Guinivere','Yi Shun Shin','Khufra','Rank','Mythic','Win'],\n",
    "       ]\n",
    "features = ['Hero 1', 'Hero 2', 'Hero 3', 'Hero 4', 'Hero 5', 'Hero 6', 'Hero 7', 'Hero 8', 'Hero 9', 'Hero 10', 'Mode', 'Degree', 'Status']\n",
    "set = pd.DataFrame(data, columns=features)"
   ]
  },
  {
   "cell_type": "code",
   "execution_count": 17,
   "id": "designed-spending",
   "metadata": {},
   "outputs": [
    {
     "name": "stdout",
     "output_type": "stream",
     "text": [
      "      Hero 1   Hero 2  Hero 3     Hero 4  Hero 5   Hero 6   Hero 7    Hero 8  \\\n",
      "0  Esmeralda  Granger    Miya     Cyclop     Sun   Franco  Alucard      Nana   \n",
      "1    Natalia    Atlas    Bane     Selena  Harley  Tigreal   Lesley  Lancelot   \n",
      "2    Silvana   Moskov  Selena  Guinivere  Karina   Luo Yi   Cyborg     Kimmy   \n",
      "\n",
      "    Hero 9  Hero 10  Mode  Degree Status  \n",
      "0    Saber  Silvana  Rank  Mythic    Win  \n",
      "1     Chou   Luo Yi  Rank  Mythic    Win  \n",
      "2  Jhonson     Vale  Rank  Mythic    Win  \n"
     ]
    }
   ],
   "source": [
    "print(set)"
   ]
  },
  {
   "cell_type": "code",
   "execution_count": null,
   "id": "posted-thing",
   "metadata": {},
   "outputs": [],
   "source": []
  }
 ],
 "metadata": {
  "kernelspec": {
   "display_name": "Python 3",
   "language": "python",
   "name": "python3"
  },
  "language_info": {
   "codemirror_mode": {
    "name": "ipython",
    "version": 3
   },
   "file_extension": ".py",
   "mimetype": "text/x-python",
   "name": "python",
   "nbconvert_exporter": "python",
   "pygments_lexer": "ipython3",
   "version": "3.9.0"
  }
 },
 "nbformat": 4,
 "nbformat_minor": 5
}

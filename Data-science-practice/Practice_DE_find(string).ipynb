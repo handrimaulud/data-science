{
 "cells": [
  {
   "cell_type": "code",
   "execution_count": 1,
   "id": "thermal-question",
   "metadata": {},
   "outputs": [
    {
     "name": "stdout",
     "output_type": "stream",
     "text": [
      "8\n",
      "9\n"
     ]
    }
   ],
   "source": [
    "judul_artikel = [\n",
    "\"Buah Salak Baik untuk Mata\", \"Buah Salak Kaya Potasium\", \n",
    "\"Buah Jeruk Kaya Vitamin C\", \"Buah Salak Kaya Manfaat\", \n",
    "\"Salak Baik untuk Jantung\", \"Jeruk dapat Memperkuat Tulang\", \n",
    "\"Jeruk Mencegah Penyakit Asma\", \"Jeruk Memperkuat Gigi\", \n",
    "\"Jeruk Mencegah Kolesterol Jahat\", \"Salak Mencegah Diabetes\", \n",
    "\"Salak Memperkuat Dinding Usus\", \"Salak Baik untuk Darah\",\n",
    "\"Jeruk Kaya Manfaat untuk Jantung\", \"Salak si Kecil yang Baik\", \n",
    "\"Jeruk dan Salak Buah Kaya Manfaat\", \"Buah Jeruk Enak\",\n",
    "\"Tips Panen Jeruk Ribuan Kilo\", \"Tips Bertanam Salak\", \n",
    "\"Salak Manis untuk Berbuka\", \"Jeruk Baik untuk Wajah\"\n",
    "]\n",
    "kata_positif = [\"Kaya\", \"Baik\", \"Mencegah\", \"Memperkuat\"]\n",
    "kata_positif_jeruk = 0\n",
    "kata_positif_salak = 0\n",
    "for judul in judul_artikel: \n",
    "    for kata in kata_positif:\n",
    "        if judul.count(\"Jeruk\")>0 and judul.count(kata)>0: \n",
    "            kata_positif_jeruk += 1\n",
    "        if judul.count(\"Salak\")>0 and judul.count(kata)>0:\n",
    "            kata_positif_salak += 1\n",
    "print(kata_positif_jeruk) \n",
    "print(kata_positif_salak)"
   ]
  },
  {
   "cell_type": "code",
   "execution_count": null,
   "id": "governing-watts",
   "metadata": {},
   "outputs": [],
   "source": []
  }
 ],
 "metadata": {
  "kernelspec": {
   "display_name": "Python 3",
   "language": "python",
   "name": "python3"
  },
  "language_info": {
   "codemirror_mode": {
    "name": "ipython",
    "version": 3
   },
   "file_extension": ".py",
   "mimetype": "text/x-python",
   "name": "python",
   "nbconvert_exporter": "python",
   "pygments_lexer": "ipython3",
   "version": "3.9.0"
  }
 },
 "nbformat": 4,
 "nbformat_minor": 5
}

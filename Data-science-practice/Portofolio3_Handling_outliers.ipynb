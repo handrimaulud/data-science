{
 "cells": [
  {
   "cell_type": "code",
   "execution_count": 184,
   "id": "abroad-therapy",
   "metadata": {},
   "outputs": [],
   "source": [
    "import pandas as pd\n",
    "df = pd.read_csv('2018.csv')"
   ]
  },
  {
   "cell_type": "code",
   "execution_count": 218,
   "id": "educated-patio",
   "metadata": {},
   "outputs": [
    {
     "name": "stdout",
     "output_type": "stream",
     "text": [
      "   Overall rank Country or region   Score  GDP per capita  Social support  \\\n",
      "0        0.1365            0.1365  0.1365          0.1365          0.1365   \n",
      "1        0.1365            0.1365  0.1365          0.1365          0.1365   \n",
      "2        0.1365            0.1365  0.1365          0.1365          0.1365   \n",
      "3        0.2030             0.203  0.2030          0.2030          0.2030   \n",
      "4        0.1365            0.1365  0.1365          0.1365          0.1365   \n",
      "\n",
      "   Healthy life expectancy  Freedom to make life choices  Generosity  \\\n",
      "0                   0.1365                        0.1365      0.1365   \n",
      "1                   0.1365                        0.1365      0.1365   \n",
      "2                   0.1365                        0.1365      0.1365   \n",
      "3                   0.2030                        0.2030      0.2030   \n",
      "4                   0.1365                        0.1365      0.1365   \n",
      "\n",
      "   Perceptions of corruption  \n",
      "0                     0.1365  \n",
      "1                     0.1365  \n",
      "2                     0.1365  \n",
      "3                     0.2030  \n",
      "4                     0.1365  \n"
     ]
    }
   ],
   "source": [
    "print(df.head())"
   ]
  },
  {
   "cell_type": "code",
   "execution_count": 185,
   "id": "wired-animation",
   "metadata": {},
   "outputs": [
    {
     "data": {
      "image/png": "[encoded data removed]",
      "text/plain": [
       "<Figure size 432x288 with 1 Axes>"
      ]
     },
     "metadata": {
      "needs_background": "light"
     },
     "output_type": "display_data"
    }
   ],
   "source": [
    "import matplotlib.pyplot as plt\n",
    "plt.figure()\n",
    "plt.gca()\n",
    "data = [df['GDP per capita'], df['Social support'], df['Healthy life expectancy'], \n",
    "        df['Freedom to make life choices'], df['Generosity'], df['Perceptions of corruption']]\n",
    "plt.boxplot(data)\n",
    "plt.show()"
   ]
  },
  {
   "cell_type": "code",
   "execution_count": 186,
   "id": "documentary-prize",
   "metadata": {},
   "outputs": [
    {
     "name": "stdout",
     "output_type": "stream",
     "text": [
      "0.9495\n",
      "1.19775\n",
      "0.0\n",
      "2.096\n",
      "-0.2560000000000002\n",
      "2.0700000000000003\n"
     ]
    }
   ],
   "source": [
    "median = df['GDP per capita'].median()\n",
    "q3 =  df['GDP per capita'].quantile(0.75)\n",
    "minn = df['GDP per capita'].min()\n",
    "maxx = df['GDP per capita'].max()\n",
    "iqr = df['GDP per capita'].quantile(0.75) - df['GDP per capita'].quantile(0.25)\n",
    "o3 = df['GDP per capita'].quantile(0.75) + 1.5*iqr\n",
    "o1 = df['GDP per capita'].quantile(0.25) - 1.5*iqr\n",
    "print(median)\n",
    "print(q3)\n",
    "print(minn)\n",
    "print(maxx)\n",
    "print(o1)\n",
    "print(o3)"
   ]
  },
  {
   "cell_type": "code",
   "execution_count": 187,
   "id": "local-church",
   "metadata": {},
   "outputs": [
    {
     "name": "stdout",
     "output_type": "stream",
     "text": [
      "-0.2560000000000002\n",
      "Less than o1\n",
      "Empty DataFrame\n",
      "Columns: [Overall rank, Country or region, Score, GDP per capita, Social support, Healthy life expectancy, Freedom to make life choices, Generosity, Perceptions of corruption]\n",
      "Index: []\n",
      "Amount:  (156, 9)\n",
      "\n",
      "More than o3\n",
      "    Overall rank     Country or region  Score  GDP per capita  Social support  \\\n",
      "19            20  United Arab Emirates  6.774           2.096           0.776   \n",
      "\n",
      "    Healthy life expectancy  Freedom to make life choices  Generosity  \\\n",
      "19                     0.67                         0.284       0.186   \n",
      "\n",
      "    Perceptions of corruption  \n",
      "19                        NaN  \n"
     ]
    }
   ],
   "source": [
    "print(o1)\n",
    "df1 = df[df['GDP per capita'] < o1]\n",
    "df2 = df[df['GDP per capita'] > o3]\n",
    "print('Less than o1')\n",
    "print(df1.head())\n",
    "print('Amount: ', df.shape)\n",
    "print('')\n",
    "print('More than o3')\n",
    "print(df2.head())"
   ]
  },
  {
   "cell_type": "code",
   "execution_count": 188,
   "id": "short-antibody",
   "metadata": {},
   "outputs": [
    {
     "name": "stdout",
     "output_type": "stream",
     "text": [
      "    Overall rank     Country or region  Score  GDP per capita  Social support  \\\n",
      "19            20  United Arab Emirates  6.774           1.197           0.776   \n",
      "\n",
      "    Healthy life expectancy  Freedom to make life choices  Generosity  \\\n",
      "19                     0.67                         0.284       0.186   \n",
      "\n",
      "    Perceptions of corruption  \n",
      "19                        NaN  \n"
     ]
    }
   ],
   "source": [
    "df['GDP per capita'] = df['GDP per capita'].replace(2.096, 1.197)\n",
    "df3 = df[df['Overall rank'] == 20]\n",
    "print(df3)"
   ]
  },
  {
   "cell_type": "code",
   "execution_count": 189,
   "id": "altered-share",
   "metadata": {},
   "outputs": [
    {
     "data": {
      "image/png": "[encoded data removed]",
      "text/plain": [
       "<Figure size 432x288 with 1 Axes>"
      ]
     },
     "metadata": {
      "needs_background": "light"
     },
     "output_type": "display_data"
    }
   ],
   "source": [
    "plt.boxplot(df['GDP per capita'])\n",
    "plt.show()"
   ]
  },
  {
   "cell_type": "code",
   "execution_count": 190,
   "id": "ignored-compound",
   "metadata": {},
   "outputs": [
    {
     "name": "stdout",
     "output_type": "stream",
     "text": [
      "    Overall rank     Country or region  Score  GDP per capita  Social support  \\\n",
      "19            20  United Arab Emirates  6.774           1.197           0.776   \n",
      "\n",
      "    Healthy life expectancy  Freedom to make life choices  Generosity  \\\n",
      "19                     0.67                         0.284       0.186   \n",
      "\n",
      "    Perceptions of corruption  \n",
      "19                      0.112  \n"
     ]
    }
   ],
   "source": [
    "import numpy as np\n",
    "df.iloc[:,-1].fillna(df.iloc[:,-1].mean(), inplace=True)\n",
    "df3 = df[df['Overall rank'] == 20]\n",
    "print(df3)"
   ]
  },
  {
   "cell_type": "code",
   "execution_count": 191,
   "id": "stone-great",
   "metadata": {},
   "outputs": [
    {
     "data": {
      "image/png": "[encoded data removed]",
      "text/plain": [
       "<Figure size 432x288 with 1 Axes>"
      ]
     },
     "metadata": {
      "needs_background": "light"
     },
     "output_type": "display_data"
    }
   ],
   "source": [
    "plt.boxplot(df['Perceptions of corruption'])\n",
    "plt.show()"
   ]
  },
  {
   "cell_type": "code",
   "execution_count": 204,
   "id": "collective-anderson",
   "metadata": {},
   "outputs": [
    {
     "name": "stdout",
     "output_type": "stream",
     "text": [
      "Less than o1\n",
      "Empty DataFrame\n",
      "Columns: [Overall rank, Country or region, Score, GDP per capita, Social support, Healthy life expectancy, Freedom to make life choices, Generosity, Perceptions of corruption]\n",
      "Index: []\n",
      "Amount:  (156, 9)\n",
      "\n",
      "More than o3\n",
      "(1, 9)\n"
     ]
    }
   ],
   "source": [
    "q3 = df.iloc[:,-1].quantile(0.75)\n",
    "iqr = df.iloc[:,-1].quantile(0.75) - df.iloc[:,-1].quantile(0.25)\n",
    "o3 = df.iloc[:,-1].quantile(0.75) + 1.5*iqr\n",
    "o1 = df.iloc[:,-1].quantile(0.25) - 1.5*iqr\n",
    "df1 = df[df.iloc[:,-1] < o1]\n",
    "df2 = df[df.iloc[:,-1] > o3]\n",
    "print('Less than o1')\n",
    "print(df1.head())\n",
    "print('Amount: ', df.shape)\n",
    "print('')\n",
    "print('More than o3')\n",
    "print(df2.shape)"
   ]
  },
  {
   "cell_type": "code",
   "execution_count": 205,
   "id": "diverse-sperm",
   "metadata": {},
   "outputs": [
    {
     "name": "stdout",
     "output_type": "stream",
     "text": [
      "Empty DataFrame\n",
      "Columns: [Overall rank, Country or region, Score, GDP per capita, Social support, Healthy life expectancy, Freedom to make life choices, Generosity, Perceptions of corruption]\n",
      "Index: []\n"
     ]
    }
   ],
   "source": [
    "iqr = df.iloc[:,-1].quantile(0.75) - df.iloc[:,-1].quantile(0.25)\n",
    "o3 = df.iloc[:,-1].quantile(0.75) + 1.5*iqr\n",
    "q3 = df.iloc[:,-1].quantile(0.75)\n",
    "\n",
    "outliers = (df.iloc[:,-1] > o3)\n",
    "df[outliers] = np.nan\n",
    "df.fillna(q3, inplace=True)\n",
    "df2 = df[df.iloc[:,-1] > o3]\n",
    "print(df2)"
   ]
  },
  {
   "cell_type": "code",
   "execution_count": 206,
   "id": "careful-providence",
   "metadata": {},
   "outputs": [
    {
     "data": {
      "image/png": "[encoded data removed]",
      "text/plain": [
       "<Figure size 432x288 with 1 Axes>"
      ]
     },
     "metadata": {
      "needs_background": "light"
     },
     "output_type": "display_data"
    }
   ],
   "source": [
    "plt.boxplot(df['Perceptions of corruption'])\n",
    "plt.show()"
   ]
  },
  {
   "cell_type": "code",
   "execution_count": 196,
   "id": "developing-laser",
   "metadata": {},
   "outputs": [
    {
     "data": {
      "image/png": "[encoded data removed]",
      "text/plain": [
       "<Figure size 432x288 with 1 Axes>"
      ]
     },
     "metadata": {
      "needs_background": "light"
     },
     "output_type": "display_data"
    }
   ],
   "source": [
    "plt.boxplot(df.iloc[:,4])\n",
    "plt.show()"
   ]
  },
  {
   "cell_type": "code",
   "execution_count": 197,
   "id": "innocent-pharmaceutical",
   "metadata": {},
   "outputs": [
    {
     "name": "stdout",
     "output_type": "stream",
     "text": [
      "Less than o1\n",
      "(1, 9)\n",
      "\n",
      "More than o3\n",
      "(0, 9)\n",
      "0.056250000000000244\n",
      "2.2282499999999996\n"
     ]
    }
   ],
   "source": [
    "q3 = df.iloc[:,4]\n",
    "iqr = df.iloc[:,4].quantile(0.75) - df.iloc[:,4].quantile(0.25)\n",
    "o3 = df.iloc[:,4].quantile(0.75) + 1.5*iqr\n",
    "o1 = df.iloc[:,4].quantile(0.25) - 1.5*iqr\n",
    "df1 = df[df.iloc[:,4] < o1]\n",
    "df2 = df[df.iloc[:,4] > o3]\n",
    "print('Less than o1')\n",
    "print(df1.shape)\n",
    "print('')\n",
    "print('More than o3')\n",
    "print(df2.shape)\n",
    "print(o1)\n",
    "print(o3)"
   ]
  },
  {
   "cell_type": "code",
   "execution_count": 201,
   "id": "excessive-hundred",
   "metadata": {},
   "outputs": [
    {
     "name": "stdout",
     "output_type": "stream",
     "text": [
      "Empty DataFrame\n",
      "Columns: [Overall rank, Country or region, Score, GDP per capita, Social support, Healthy life expectancy, Freedom to make life choices, Generosity, Perceptions of corruption]\n",
      "Index: []\n"
     ]
    }
   ],
   "source": [
    "iqr = df.iloc[:,4].quantile(0.75) - df.iloc[:,4].quantile(0.25)\n",
    "o1 = df.iloc[:,4].quantile(0.25) - 1.5*iqr\n",
    "q1 = df.iloc[:,4].quantile(0.25)\n",
    "\n",
    "outliers = (df.iloc[:,4] < o1)\n",
    "df[outliers] = np.nan\n",
    "\n",
    "df.fillna(q1, inplace=True)\n",
    "df2 = df[df.iloc[:,4] < o1]\n",
    "print(df2)"
   ]
  },
  {
   "cell_type": "code",
   "execution_count": 202,
   "id": "frozen-process",
   "metadata": {},
   "outputs": [
    {
     "data": {
      "image/png": "[encoded data removed]",
      "text/plain": [
       "<Figure size 432x288 with 1 Axes>"
      ]
     },
     "metadata": {
      "needs_background": "light"
     },
     "output_type": "display_data"
    }
   ],
   "source": [
    "plt.boxplot(df.iloc[:,4])\n",
    "plt.show()"
   ]
  },
  {
   "cell_type": "code",
   "execution_count": 208,
   "id": "floating-harris",
   "metadata": {},
   "outputs": [
    {
     "data": {
      "image/png": "[encoded data removed]",
      "text/plain": [
       "<Figure size 432x288 with 1 Axes>"
      ]
     },
     "metadata": {
      "needs_background": "light"
     },
     "output_type": "display_data"
    }
   ],
   "source": [
    "plt.boxplot(df.iloc[:,-2])\n",
    "plt.show()"
   ]
  },
  {
   "cell_type": "code",
   "execution_count": 211,
   "id": "married-excellence",
   "metadata": {},
   "outputs": [
    {
     "name": "stdout",
     "output_type": "stream",
     "text": [
      "Less than o1\n",
      "(0, 9)\n",
      "\n",
      "More than o3\n",
      "(9, 9)\n",
      "-0.030750000000000013\n",
      "0.34325000000000006\n"
     ]
    }
   ],
   "source": [
    "q3 = df.iloc[:,-2]\n",
    "iqr = df.iloc[:,-2].quantile(0.75) - df.iloc[:,-2].quantile(0.25)\n",
    "o3 = df.iloc[:,-2].quantile(0.75) + 1.5*iqr\n",
    "o1 = df.iloc[:,-2].quantile(0.25) - 1.5*iqr\n",
    "df1 = df[df.iloc[:,-2] < o1]\n",
    "df2 = df[df.iloc[:,-2] > o3]\n",
    "print('Less than o1')\n",
    "print(df1.shape)\n",
    "print('')\n",
    "print('More than o3')\n",
    "print(df2.shape)\n",
    "print(o1)\n",
    "print(o3)"
   ]
  },
  {
   "cell_type": "code",
   "execution_count": 214,
   "id": "friendly-watch",
   "metadata": {},
   "outputs": [
    {
     "name": "stdout",
     "output_type": "stream",
     "text": [
      "(0, 9)\n"
     ]
    }
   ],
   "source": [
    "iqr = df.iloc[:,-2].quantile(0.75) - df.iloc[:,-2].quantile(0.25)\n",
    "o3 = df.iloc[:,-2].quantile(0.75) + 1.5*iqr\n",
    "q3 = df.iloc[:,-2].quantile(0.75)\n",
    "\n",
    "outliers = (df.iloc[:,-2] > o3)\n",
    "df[outliers] = np.nan\n",
    "\n",
    "df.fillna(q3, inplace=True)\n",
    "df2 = df[df.iloc[:,-2] > o3]\n",
    "print(df2.shape)"
   ]
  },
  {
   "cell_type": "code",
   "execution_count": 215,
   "id": "christian-reasoning",
   "metadata": {},
   "outputs": [
    {
     "data": {
      "image/png": "[encoded data removed]",
      "text/plain": [
       "<Figure size 432x288 with 1 Axes>"
      ]
     },
     "metadata": {
      "needs_background": "light"
     },
     "output_type": "display_data"
    }
   ],
   "source": [
    "plt.boxplot(df.iloc[:,-2])\n",
    "plt.show()"
   ]
  },
  {
   "cell_type": "code",
   "execution_count": 216,
   "id": "referenced-handling",
   "metadata": {},
   "outputs": [
    {
     "data": {
      "image/png": "[encoded data removed]",
      "text/plain": [
       "<Figure size 432x288 with 1 Axes>"
      ]
     },
     "metadata": {
      "needs_background": "light"
     },
     "output_type": "display_data"
    }
   ],
   "source": [
    "import matplotlib.pyplot as plt\n",
    "plt.figure()\n",
    "plt.gca()\n",
    "data = [df['GDP per capita'], df['Social support'], df['Healthy life expectancy'], \n",
    "        df['Freedom to make life choices'], df['Generosity'], df['Perceptions of corruption']]\n",
    "plt.boxplot(data)\n",
    "plt.show()"
   ]
  },
  {
   "cell_type": "code",
   "execution_count": null,
   "id": "damaged-emergency",
   "metadata": {},
   "outputs": [],
   "source": []
  }
 ],
 "metadata": {
  "kernelspec": {
   "display_name": "Python 3",
   "language": "python",
   "name": "python3"
  },
  "language_info": {
   "codemirror_mode": {
    "name": "ipython",
    "version": 3
   },
   "file_extension": ".py",
   "mimetype": "text/x-python",
   "name": "python",
   "nbconvert_exporter": "python",
   "pygments_lexer": "ipython3",
   "version": "3.9.0"
  }
 },
 "nbformat": 4,
 "nbformat_minor": 5
}

{
 "cells": [
  {
   "cell_type": "code",
   "execution_count": 143,
   "id": "reflected-enhancement",
   "metadata": {},
   "outputs": [
    {
     "name": "stdout",
     "output_type": "stream",
     "text": [
      "   Overall rank Country or region  Score  GDP per capita  Social support  \\\n",
      "0             1           Finland  7.769           1.340           1.587   \n",
      "1             2           Denmark  7.600           1.383           1.573   \n",
      "2             3            Norway  7.554           1.488           1.582   \n",
      "3             4           Iceland  7.494           1.380           1.624   \n",
      "4             5       Netherlands  7.488           1.396           1.522   \n",
      "\n",
      "   Healthy life expectancy  Freedom to make life choices  Generosity  \\\n",
      "0                    0.986                         0.596       0.153   \n",
      "1                    0.996                         0.592       0.252   \n",
      "2                    1.028                         0.603       0.271   \n",
      "3                    1.026                         0.591       0.354   \n",
      "4                    0.999                         0.557       0.322   \n",
      "\n",
      "   Perceptions of corruption  \n",
      "0                      0.393  \n",
      "1                      0.410  \n",
      "2                      0.341  \n",
      "3                      0.118  \n",
      "4                      0.298  \n"
     ]
    }
   ],
   "source": [
    "import pandas as pd\n",
    "df = pd.read_csv('2019.csv')\n",
    "print(df.head())"
   ]
  },
  {
   "cell_type": "code",
   "execution_count": 123,
   "id": "exotic-robin",
   "metadata": {},
   "outputs": [
    {
     "name": "stdout",
     "output_type": "stream",
     "text": [
      "(156, 9)\n",
      "Overall rank                    0\n",
      "Country or region               0\n",
      "Score                           0\n",
      "GDP per capita                  0\n",
      "Social support                  0\n",
      "Healthy life expectancy         0\n",
      "Freedom to make life choices    0\n",
      "Generosity                      0\n",
      "Perceptions of corruption       0\n",
      "dtype: int64\n"
     ]
    }
   ],
   "source": [
    "print(df.shape)\n",
    "print(df.isna().sum())"
   ]
  },
  {
   "cell_type": "code",
   "execution_count": 124,
   "id": "sensitive-daily",
   "metadata": {},
   "outputs": [
    {
     "data": {
      "image/png": "[encoded data removed]",
      "text/plain": [
       "<Figure size 432x288 with 1 Axes>"
      ]
     },
     "metadata": {
      "needs_background": "light"
     },
     "output_type": "display_data"
    }
   ],
   "source": [
    "import matplotlib.pyplot as plt\n",
    "df[['Score']].plot(kind='hist', bins=3)\n",
    "plt.xlabel('Score', fontsize=12)\n",
    "plt.show()"
   ]
  },
  {
   "cell_type": "code",
   "execution_count": 170,
   "id": "photographic-emergency",
   "metadata": {},
   "outputs": [
    {
     "name": "stdout",
     "output_type": "stream",
     "text": [
      "  Quality\n",
      "0    Good\n",
      "1    Good\n",
      "2    Good\n",
      "3    Good\n",
      "4    Good\n"
     ]
    }
   ],
   "source": [
    "Quality = []\n",
    "for i in df['Score']:\n",
    "    if i < 4.5 :\n",
    "        Quality.append('Poor')\n",
    "    if 4.5 <= i < 6:\n",
    "        Quality.append('Intermediate')\n",
    "    if i >= 6 :\n",
    "        Quality.append('Good')\n",
    "column = ['Quality']\n",
    "qty = pd.DataFrame(Quality, columns=column)\n",
    "print(qty.head())"
   ]
  },
  {
   "cell_type": "code",
   "execution_count": 117,
   "id": "healthy-annual",
   "metadata": {},
   "outputs": [
    {
     "name": "stdout",
     "output_type": "stream",
     "text": [
      "<class 'pandas.core.frame.DataFrame'>\n",
      "<class 'pandas.core.frame.DataFrame'>\n"
     ]
    }
   ],
   "source": [
    "print(type(qty))\n",
    "print(type(df))"
   ]
  },
  {
   "cell_type": "code",
   "execution_count": 171,
   "id": "respective-orleans",
   "metadata": {},
   "outputs": [
    {
     "name": "stdout",
     "output_type": "stream",
     "text": [
      "(156, 10)\n",
      "   Overall rank Country or region  Score  GDP per capita  Social support  \\\n",
      "0             1           Finland  7.769           1.340           1.587   \n",
      "1             2           Denmark  7.600           1.383           1.573   \n",
      "2             3            Norway  7.554           1.488           1.582   \n",
      "3             4           Iceland  7.494           1.380           1.624   \n",
      "4             5       Netherlands  7.488           1.396           1.522   \n",
      "\n",
      "   Healthy life expectancy  Freedom to make life choices  Generosity  \\\n",
      "0                    0.986                         0.596       0.153   \n",
      "1                    0.996                         0.592       0.252   \n",
      "2                    1.028                         0.603       0.271   \n",
      "3                    1.026                         0.591       0.354   \n",
      "4                    0.999                         0.557       0.322   \n",
      "\n",
      "   Perceptions of corruption Quality  \n",
      "0                     0.0855    Good  \n",
      "1                     0.0855    Good  \n",
      "2                     0.0855    Good  \n",
      "3                     0.1180    Good  \n",
      "4                     0.0855    Good  \n"
     ]
    }
   ],
   "source": [
    "data = pd.concat([df, qty], axis=1)\n",
    "print(data.shape)\n",
    "print(data.head())"
   ]
  },
  {
   "cell_type": "code",
   "execution_count": 121,
   "id": "synthetic-salvation",
   "metadata": {},
   "outputs": [
    {
     "name": "stdout",
     "output_type": "stream",
     "text": [
      "     Overall rank         Country or region  Score  GDP per capita  \\\n",
      "154           155  Central African Republic  3.083           0.026   \n",
      "\n",
      "     Social support  Healthy life expectancy  Freedom to make life choices  \\\n",
      "154             0.0                    0.105                         0.225   \n",
      "\n",
      "     Generosity  Perceptions of corruption Quality  \n",
      "154       0.235                      0.035    Poor  \n"
     ]
    }
   ],
   "source": [
    "poor = data[data['Quality'] == 'Poor']\n",
    "print(poor)"
   ]
  },
  {
   "cell_type": "code",
   "execution_count": 134,
   "id": "stone-stomach",
   "metadata": {},
   "outputs": [
    {
     "data": {
      "image/png": "[encoded data removed]",
      "text/plain": [
       "<Figure size 432x288 with 2 Axes>"
      ]
     },
     "metadata": {
      "needs_background": "light"
     },
     "output_type": "display_data"
    }
   ],
   "source": [
    "import matplotlib.pyplot as plt\n",
    "import seaborn as sns\n",
    "\n",
    "hm = data.corr()\n",
    "sns.heatmap(hm)\n",
    "plt.xticks(rotation=90)\n",
    "plt.show()"
   ]
  },
  {
   "cell_type": "code",
   "execution_count": 176,
   "id": "offshore-asbestos",
   "metadata": {},
   "outputs": [],
   "source": [
    "from sklearn.model_selection import train_test_split\n",
    "X = data.iloc[:,3:9]\n",
    "y = data['Score']\n",
    "X_train, X_test, y_train, y_test = train_test_split(X, y, train_size=0.7, random_state=0)"
   ]
  },
  {
   "cell_type": "code",
   "execution_count": 49,
   "id": "hourly-hamilton",
   "metadata": {},
   "outputs": [
    {
     "name": "stdout",
     "output_type": "stream",
     "text": [
      "0.7981651376146789\n",
      "0.6808510638297872\n",
      "Confussion Matrix:\n",
      "[[11  5  0]\n",
      " [ 3 17  3]\n",
      " [ 0  4  4]]\n",
      "Classification report: \n",
      "              precision    recall  f1-score   support\n",
      "\n",
      "        Good       0.79      0.69      0.73        16\n",
      "Intermediate       0.65      0.74      0.69        23\n",
      "        Poor       0.57      0.50      0.53         8\n",
      "\n",
      "    accuracy                           0.68        47\n",
      "   macro avg       0.67      0.64      0.65        47\n",
      "weighted avg       0.68      0.68      0.68        47\n",
      "\n",
      "['Poor']\n"
     ]
    }
   ],
   "source": [
    "from sklearn.linear_model import LogisticRegression\n",
    "from sklearn.metrics import confusion_matrix, classification_report\n",
    "from sklearn.metrics import accuracy_score\n",
    "lr = LogisticRegression()\n",
    "lr = lr.fit(X_train, y_train)\n",
    "y_pred = lr.predict(X_test)\n",
    "print(lr.score(X_train, y_train))\n",
    "print(lr.score(X_test, y_test))\n",
    "cm = confusion_matrix(y_test, y_pred)\n",
    "cr = classification_report(y_test, y_pred)\n",
    "accuracy = accuracy_score(y_test, y_pred)\n",
    "\n",
    "print('Confussion Matrix:')\n",
    "print(cm)\n",
    "print('Classification report: ')\n",
    "print(cr)\n",
    "\n",
    "data_test = {'GDP per capita' : [0.25],\n",
    "                'Social support' : [0.18],\n",
    "                'Healthy life expectancy' : [0.23],\n",
    "                'Freedom to make life choices' : [0.43],\n",
    "                'Generosity' : [0.43],\n",
    "                'Perceptions of corruption' : [0.42]}\n",
    "\n",
    "data_testing = pd.DataFrame(data_test)\n",
    "testing = lr.predict(data_testing)\n",
    "print(testing)"
   ]
  },
  {
   "cell_type": "code",
   "execution_count": 42,
   "id": "typical-sleeping",
   "metadata": {},
   "outputs": [
    {
     "name": "stdout",
     "output_type": "stream",
     "text": [
      "1.0\n",
      "0.6382978723404256\n",
      "Accuracy score: \n",
      "0.6382978723404256\n",
      "Confussion Matrix:\n",
      "[[12  4  0]\n",
      " [ 2 17  4]\n",
      " [ 0  7  1]]\n",
      "Classification report: \n",
      "              precision    recall  f1-score   support\n",
      "\n",
      "        Good       0.86      0.75      0.80        16\n",
      "Intermediate       0.61      0.74      0.67        23\n",
      "        Poor       0.20      0.12      0.15         8\n",
      "\n",
      "    accuracy                           0.64        47\n",
      "   macro avg       0.55      0.54      0.54        47\n",
      "weighted avg       0.62      0.64      0.62        47\n",
      "\n",
      "['Poor']\n"
     ]
    }
   ],
   "source": [
    "from sklearn.tree import DecisionTreeClassifier\n",
    "from sklearn.metrics import confusion_matrix, classification_report\n",
    "from sklearn.metrics import accuracy_score\n",
    "dr = DecisionTreeClassifier()\n",
    "dr = dr.fit(X_train, y_train)\n",
    "y_pred = dr.predict(X_test)\n",
    "print(dr.score(X_train, y_train))\n",
    "print(dr.score(X_test, y_test))\n",
    "cm2 = confusion_matrix(y_test, y_pred)\n",
    "cr2 = classification_report(y_test, y_pred)\n",
    "accuracy = accuracy_score(y_test, y_pred)\n",
    "print('Accuracy score: ')\n",
    "print(accuracy)\n",
    "print('Confussion Matrix:')\n",
    "print(cm2)\n",
    "print('Classification report: ')\n",
    "print(cr2)\n",
    "data_test = {'GDP per capita' : [0.45],\n",
    "                'Social support' : [0.38],\n",
    "                'Healthy life expectancy' : [0.43],\n",
    "                'Freedom to make life choices' : [0.63],\n",
    "                'Generosity' : [0.23],\n",
    "                'Perceptions of corruption' : [0.52]}\n",
    "\n",
    "data_testing = pd.DataFrame(data_test)\n",
    "testing = dr.predict(data_testing)\n",
    "print(testing)"
   ]
  },
  {
   "cell_type": "code",
   "execution_count": 43,
   "id": "aquatic-lunch",
   "metadata": {},
   "outputs": [
    {
     "name": "stdout",
     "output_type": "stream",
     "text": [
      "1.0\n",
      "0.6595744680851063\n",
      "Accuracy score: \n",
      "0.6595744680851063\n",
      "Confussion Matrix:\n",
      "[[11  5  0]\n",
      " [ 2 17  4]\n",
      " [ 0  5  3]]\n",
      "Classification report: \n",
      "              precision    recall  f1-score   support\n",
      "\n",
      "        Good       0.85      0.69      0.76        16\n",
      "Intermediate       0.63      0.74      0.68        23\n",
      "        Poor       0.43      0.38      0.40         8\n",
      "\n",
      "    accuracy                           0.66        47\n",
      "   macro avg       0.63      0.60      0.61        47\n",
      "weighted avg       0.67      0.66      0.66        47\n",
      "\n",
      "['Intermediate']\n"
     ]
    }
   ],
   "source": [
    "from sklearn.ensemble import RandomForestClassifier\n",
    "from sklearn.metrics import confusion_matrix, classification_report\n",
    "from sklearn.metrics import accuracy_score\n",
    "rf = RandomForestClassifier()\n",
    "rf = dr.fit(X_train, y_train)\n",
    "y_pred = rf.predict(X_test)\n",
    "print(rf.score(X_train, y_train))\n",
    "print(rf.score(X_test, y_test))\n",
    "cm = confusion_matrix(y_test, y_pred)\n",
    "cr = classification_report(y_test, y_pred)\n",
    "accuracy = accuracy_score(y_test, y_pred)\n",
    "print('Accuracy score: ')\n",
    "print(accuracy)\n",
    "print('Confussion Matrix:')\n",
    "print(cm)\n",
    "print('Classification report: ')\n",
    "print(cr)\n",
    "data_test = {'GDP per capita' : [0.45],\n",
    "                'Social support' : [0.38],\n",
    "                'Healthy life expectancy' : [0.43],\n",
    "                'Freedom to make life choices' : [0.63],\n",
    "                'Generosity' : [0.23],\n",
    "                'Perceptions of corruption' : [0.52]}\n",
    "\n",
    "data_testing = pd.DataFrame(data_test)\n",
    "testing = dr.predict(data_testing)\n",
    "print(testing)"
   ]
  },
  {
   "cell_type": "code",
   "execution_count": 44,
   "id": "talented-worcester",
   "metadata": {},
   "outputs": [
    {
     "name": "stdout",
     "output_type": "stream",
     "text": [
      "1.0\n",
      "0.6595744680851063\n",
      "Accuracy score: \n",
      "0.6595744680851063\n",
      "Confussion Matrix:\n",
      "[[11  5  0]\n",
      " [ 3 17  3]\n",
      " [ 0  5  3]]\n",
      "Classification report: \n",
      "              precision    recall  f1-score   support\n",
      "\n",
      "        Good       0.79      0.69      0.73        16\n",
      "Intermediate       0.63      0.74      0.68        23\n",
      "        Poor       0.50      0.38      0.43         8\n",
      "\n",
      "    accuracy                           0.66        47\n",
      "   macro avg       0.64      0.60      0.61        47\n",
      "weighted avg       0.66      0.66      0.66        47\n",
      "\n",
      "['Intermediate']\n"
     ]
    }
   ],
   "source": [
    "from sklearn.ensemble import GradientBoostingClassifier\n",
    "from sklearn.metrics import confusion_matrix, classification_report\n",
    "from sklearn.metrics import accuracy_score\n",
    "gb = GradientBoostingClassifier()\n",
    "gb = gb.fit(X_train, y_train)\n",
    "y_pred = gb.predict(X_test)\n",
    "print(gb.score(X_train, y_train))\n",
    "print(gb.score(X_test, y_test))\n",
    "cm = confusion_matrix(y_test, y_pred)\n",
    "cr = classification_report(y_test, y_pred)\n",
    "accuracy = accuracy_score(y_test, y_pred)\n",
    "print('Accuracy score: ')\n",
    "print(accuracy)\n",
    "print('Confussion Matrix:')\n",
    "print(cm)\n",
    "print('Classification report: ')\n",
    "print(cr)\n",
    "data_test = {'GDP per capita' : [0.45],\n",
    "                'Social support' : [0.38],\n",
    "                'Healthy life expectancy' : [0.43],\n",
    "                'Freedom to make life choices' : [0.63],\n",
    "                'Generosity' : [0.23],\n",
    "                'Perceptions of corruption' : [0.52]}\n",
    "\n",
    "data_testing = pd.DataFrame(data_test)\n",
    "testing = dr.predict(data_testing)\n",
    "print(testing)"
   ]
  },
  {
   "cell_type": "code",
   "execution_count": null,
   "id": "foreign-brazil",
   "metadata": {},
   "outputs": [],
   "source": []
  },
  {
   "cell_type": "code",
   "execution_count": 185,
   "id": "billion-parish",
   "metadata": {},
   "outputs": [
    {
     "name": "stdout",
     "output_type": "stream",
     "text": [
      "Mean squared error:  0.31914967962634555\n",
      "Mean absolute error:  0.4520039494056047\n",
      "Root mean squared error:  0.5649333408698283\n",
      "R2 score:  0.6864084164645499\n",
      "\n",
      "[3.39872951]\n"
     ]
    }
   ],
   "source": [
    "from sklearn.linear_model import LinearRegression\n",
    "from sklearn.metrics import mean_squared_error, mean_absolute_error, r2_score\n",
    "import numpy as np\n",
    "\n",
    "linear = LinearRegression()\n",
    "linear = linear.fit(X_train, y_train)\n",
    "y_pred = linear.predict(X_test)\n",
    "\n",
    "\n",
    "mse = mean_squared_error(y_test, y_pred)\n",
    "mae = mean_absolute_error(y_test, y_pred)\n",
    "rmse = np.sqrt(mse)\n",
    "rscore = r2_score(y_test, y_pred)\n",
    "\n",
    "print('Mean squared error: ', mse)\n",
    "print('Mean absolute error: ', mae)\n",
    "print('Root mean squared error: ', rmse)\n",
    "print('R2 score: ', rscore)\n",
    "print('')\n",
    "\n",
    "data_test = {'GDP per capita' : [0.25],\n",
    "                'Social support' : [0.18],\n",
    "                'Healthy life expectancy' : [0.23],\n",
    "                'Freedom to make life choices' : [0.43],\n",
    "                'Generosity' : [0.43],\n",
    "                'Perceptions of corruption' : [0.42]}\n",
    "\n",
    "data_testing = pd.DataFrame(data_test)\n",
    "testing = linear.predict(data_testing)\n",
    "print(testing)"
   ]
  },
  {
   "cell_type": "code",
   "execution_count": 148,
   "id": "parliamentary-macintosh",
   "metadata": {},
   "outputs": [
    {
     "data": {
      "image/png": "[encoded data removed]",
      "text/plain": [
       "<Figure size 432x288 with 1 Axes>"
      ]
     },
     "metadata": {
      "needs_background": "light"
     },
     "output_type": "display_data"
    }
   ],
   "source": [
    "x = df.iloc[:,4]\n",
    "plt.boxplot(x)\n",
    "plt.show()"
   ]
  },
  {
   "cell_type": "code",
   "execution_count": 147,
   "id": "graduate-aside",
   "metadata": {},
   "outputs": [
    {
     "data": {
      "image/png": "[encoded data removed]",
      "text/plain": [
       "<Figure size 432x288 with 1 Axes>"
      ]
     },
     "metadata": {
      "needs_background": "light"
     },
     "output_type": "display_data"
    }
   ],
   "source": [
    "median4 = df.iloc[:,4].median()\n",
    "q14 = df.iloc[:,4].quantile(0.25)\n",
    "q34 = df.iloc[:,4].quantile(0.75)\n",
    "iqr4 = q34 - q14\n",
    "o14 = q14 - 1.5*iqr4\n",
    "o34 = q34 + 1.5*iqr4\n",
    "df.iloc[:,4] = df.iloc[:,4].mask(df.iloc[:,4] < o14, median4)\n",
    "y = df.iloc[:,4]\n",
    "plt.boxplot(y)\n",
    "plt.show()"
   ]
  },
  {
   "cell_type": "code",
   "execution_count": 155,
   "id": "finnish-television",
   "metadata": {},
   "outputs": [
    {
     "data": {
      "image/png": "[encoded data removed]",
      "text/plain": [
       "<Figure size 432x288 with 1 Axes>"
      ]
     },
     "metadata": {
      "needs_background": "light"
     },
     "output_type": "display_data"
    }
   ],
   "source": [
    "x = df.iloc[:,5]\n",
    "plt.boxplot(x)\n",
    "plt.show()"
   ]
  },
  {
   "cell_type": "code",
   "execution_count": 156,
   "id": "swiss-township",
   "metadata": {},
   "outputs": [
    {
     "data": {
      "image/png": "[encoded data removed]",
      "text/plain": [
       "<Figure size 432x288 with 1 Axes>"
      ]
     },
     "metadata": {
      "needs_background": "light"
     },
     "output_type": "display_data"
    }
   ],
   "source": [
    "median4 = df.iloc[:,5].median()\n",
    "q14 = df.iloc[:,5].quantile(0.25)\n",
    "q34 = df.iloc[:,5].quantile(0.75)\n",
    "iqr4 = q34 - q14\n",
    "o14 = q14 - 1.5*iqr4\n",
    "o34 = q34 + 1.5*iqr4\n",
    "df.iloc[:,5] = df.iloc[:,5].mask(df.iloc[:,5] < o14, median4)\n",
    "y = df.iloc[:,5]\n",
    "plt.boxplot(y)\n",
    "plt.show()"
   ]
  },
  {
   "cell_type": "code",
   "execution_count": 159,
   "id": "australian-calgary",
   "metadata": {},
   "outputs": [
    {
     "data": {
      "image/png": "[encoded data removed]",
      "text/plain": [
       "<Figure size 432x288 with 1 Axes>"
      ]
     },
     "metadata": {
      "needs_background": "light"
     },
     "output_type": "display_data"
    }
   ],
   "source": [
    "x = df.iloc[:,6]\n",
    "plt.boxplot(x)\n",
    "plt.show()"
   ]
  },
  {
   "cell_type": "code",
   "execution_count": 160,
   "id": "persistent-spiritual",
   "metadata": {},
   "outputs": [
    {
     "data": {
      "image/png": "[encoded data removed]",
      "text/plain": [
       "<Figure size 432x288 with 1 Axes>"
      ]
     },
     "metadata": {
      "needs_background": "light"
     },
     "output_type": "display_data"
    }
   ],
   "source": [
    "median4 = df.iloc[:,6].median()\n",
    "q14 = df.iloc[:,6].quantile(0.25)\n",
    "q34 = df.iloc[:,6].quantile(0.75)\n",
    "iqr4 = q34 - q14\n",
    "o14 = q14 - 1.5*iqr4\n",
    "o34 = q34 + 1.5*iqr4\n",
    "df.iloc[:,6] = df.iloc[:,6].mask(df.iloc[:,6] < o14, median4)\n",
    "y = df.iloc[:,6]\n",
    "plt.boxplot(y)\n",
    "plt.show()"
   ]
  },
  {
   "cell_type": "code",
   "execution_count": 161,
   "id": "recorded-canyon",
   "metadata": {},
   "outputs": [
    {
     "data": {
      "image/png": "[encoded data removed]",
      "text/plain": [
       "<Figure size 432x288 with 1 Axes>"
      ]
     },
     "metadata": {
      "needs_background": "light"
     },
     "output_type": "display_data"
    }
   ],
   "source": [
    "x = df.iloc[:,7]\n",
    "plt.boxplot(x)\n",
    "plt.show()"
   ]
  },
  {
   "cell_type": "code",
   "execution_count": 162,
   "id": "separated-tunisia",
   "metadata": {},
   "outputs": [
    {
     "data": {
      "image/png": "[encoded data removed]",
      "text/plain": [
       "<Figure size 432x288 with 1 Axes>"
      ]
     },
     "metadata": {
      "needs_background": "light"
     },
     "output_type": "display_data"
    }
   ],
   "source": [
    "median4 = df.iloc[:,7].median()\n",
    "q14 = df.iloc[:,7].quantile(0.25)\n",
    "q34 = df.iloc[:,7].quantile(0.75)\n",
    "iqr4 = q34 - q14\n",
    "o14 = q14 - 1.5*iqr4\n",
    "o34 = q34 + 1.5*iqr4\n",
    "df.iloc[:,7] = df.iloc[:,7].mask(df.iloc[:,7] > o34, median4)\n",
    "y = df.iloc[:,7]\n",
    "plt.boxplot(y)\n",
    "plt.show()"
   ]
  },
  {
   "cell_type": "code",
   "execution_count": 163,
   "id": "essential-annotation",
   "metadata": {},
   "outputs": [
    {
     "data": {
      "image/png": "[encoded data removed]",
      "text/plain": [
       "<Figure size 432x288 with 1 Axes>"
      ]
     },
     "metadata": {
      "needs_background": "light"
     },
     "output_type": "display_data"
    }
   ],
   "source": [
    "x = df.iloc[:,8]\n",
    "plt.boxplot(x)\n",
    "plt.show()"
   ]
  },
  {
   "cell_type": "code",
   "execution_count": 169,
   "id": "grateful-spanish",
   "metadata": {},
   "outputs": [
    {
     "data": {
      "image/png": "[encoded data removed]",
      "text/plain": [
       "<Figure size 432x288 with 1 Axes>"
      ]
     },
     "metadata": {
      "needs_background": "light"
     },
     "output_type": "display_data"
    }
   ],
   "source": [
    "median4 = df.iloc[:,8].median()\n",
    "q14 = df.iloc[:,8].quantile(0.25)\n",
    "q34 = df.iloc[:,8].quantile(0.75)\n",
    "iqr4 = q34 - q14\n",
    "o14 = q14 - 1.5*iqr4\n",
    "o34 = q34 + 1.5*iqr4\n",
    "df.iloc[:,8] = df.iloc[:,8].mask(df.iloc[:,8] > o34, median4)\n",
    "y = df.iloc[:,8]\n",
    "plt.boxplot(y)\n",
    "plt.show()"
   ]
  },
  {
   "cell_type": "code",
   "execution_count": 96,
   "id": "bearing-conversion",
   "metadata": {},
   "outputs": [],
   "source": [
    "id = data[data['Country or region'] == 'Indonesia']"
   ]
  },
  {
   "cell_type": "code",
   "execution_count": 97,
   "id": "armed-elite",
   "metadata": {},
   "outputs": [
    {
     "name": "stdout",
     "output_type": "stream",
     "text": [
      "    Overall rank Country or region  Score  GDP per capita  Social support  \\\n",
      "91            92         Indonesia  5.192           0.931           1.203   \n",
      "\n",
      "    Healthy life expectancy  Freedom to make life choices  Generosity  \\\n",
      "91                     0.66                         0.491       0.498   \n",
      "\n",
      "    Perceptions of corruption       Quality  \n",
      "91                      0.028  Intermediate  \n"
     ]
    }
   ],
   "source": [
    "print(id)"
   ]
  },
  {
   "cell_type": "code",
   "execution_count": 98,
   "id": "roman-potato",
   "metadata": {},
   "outputs": [
    {
     "name": "stdout",
     "output_type": "stream",
     "text": [
      "     Overall rank         Country or region  Score  GDP per capita  \\\n",
      "151           152                    Rwanda  3.334           0.359   \n",
      "152           153                  Tanzania  3.231           0.476   \n",
      "153           154               Afghanistan  3.203           0.350   \n",
      "154           155  Central African Republic  3.083           0.026   \n",
      "155           156               South Sudan  2.853           0.306   \n",
      "\n",
      "     Social support  Healthy life expectancy  Freedom to make life choices  \\\n",
      "151           0.711                    0.614                         0.555   \n",
      "152           0.885                    0.499                         0.417   \n",
      "153           0.517                    0.361                         0.000   \n",
      "154           0.000                    0.105                         0.225   \n",
      "155           0.575                    0.295                         0.010   \n",
      "\n",
      "     Generosity  Perceptions of corruption Quality  \n",
      "151       0.217                      0.411    Poor  \n",
      "152       0.276                      0.147    Poor  \n",
      "153       0.158                      0.025    Poor  \n",
      "154       0.235                      0.035    Poor  \n",
      "155       0.202                      0.091    Poor  \n"
     ]
    }
   ],
   "source": [
    "print(data.tail())"
   ]
  },
  {
   "cell_type": "code",
   "execution_count": null,
   "id": "portable-sapphire",
   "metadata": {},
   "outputs": [],
   "source": []
  }
 ],
 "metadata": {
  "kernelspec": {
   "display_name": "Python 3",
   "language": "python",
   "name": "python3"
  },
  "language_info": {
   "codemirror_mode": {
    "name": "ipython",
    "version": 3
   },
   "file_extension": ".py",
   "mimetype": "text/x-python",
   "name": "python",
   "nbconvert_exporter": "python",
   "pygments_lexer": "ipython3",
   "version": "3.9.0"
  }
 },
 "nbformat": 4,
 "nbformat_minor": 5
}

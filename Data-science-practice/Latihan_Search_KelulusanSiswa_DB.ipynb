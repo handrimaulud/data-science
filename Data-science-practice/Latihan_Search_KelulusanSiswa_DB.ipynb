{
 "cells": [
  {
   "cell_type": "code",
   "execution_count": 2,
   "id": "unnecessary-shirt",
   "metadata": {},
   "outputs": [
    {
     "name": "stdout",
     "output_type": "stream",
     "text": [
      "                         nim                            nama  \\\n",
      "0  [A01, A02, A03, A04, A05]  [Amir, Budi, Cici, Dedi, Fifi]   \n",
      "\n",
      "                    mid                   uas  \n",
      "0  [50, 40, 50, 20, 70]  [80, 90, 50, 30, 40]  \n"
     ]
    }
   ],
   "source": [
    "import pandas as pd\n",
    "nilaiMhs = [\n",
    "    {'nim' :['A01', 'A02', 'A03', 'A04', 'A05'], \n",
    "     'nama' : ['Amir','Budi', 'Cici', 'Dedi','Fifi'], \n",
    "     'mid' : [50, 40, 50, 20, 70], \n",
    "     'uas' : [80, 90, 50, 30, 40]}]\n",
    "nilai=pd.DataFrame(nilaiMhs)\n",
    "print(nilai)\n"
   ]
  },
  {
   "cell_type": "code",
   "execution_count": 7,
   "id": "banner-fundamental",
   "metadata": {},
   "outputs": [],
   "source": [
    "def nilaiAkhir (nilaimid, nilaiuas):\n",
    "    nilai = (nilaimid+2*nilaiuas)/3\n",
    "    print(nilai)\n",
    "    kelulusan(nilai)\n",
    "    \n",
    "    \n",
    "def kelulusan(nilai):\n",
    "    if nilai > 70:\n",
    "        print(\"Selamat anda lulus!\")\n",
    "        \n",
    "    else :\n",
    "        print (\"Anda gagal\")\n",
    "        \n",
    "               \n",
    "def menambahkanSiswa(nimbaru, namabaru, midbaru, uasbaru) :\n",
    "    nilaiBaru = {}\n",
    "    nilaiBaru['nim']=nimbaru\n",
    "    nilaiBaru['nama']=namabaru\n",
    "    nilaiBaru['mid']=midbaru\n",
    "    nilaiBaru['uas']=uasbaru\n",
    "    \n",
    "    print(nilaiBaru)\n",
    "    nilaiAkhir(midbaru, uasbaru)\n",
    "   \n",
    "       \n",
    "\n",
    "        "
   ]
  },
  {
   "cell_type": "code",
   "execution_count": null,
   "id": "electoral-eagle",
   "metadata": {},
   "outputs": [],
   "source": [
    "nama = input(\"Masukan nama siswa :\")\n",
    "for x in nilai:\n",
    "    if x['nama'] == nama :\n",
    "        print(\"Nilai siswa adalah :\")\n",
    "        mid = x['mid']\n",
    "        uas = x['uas']\n",
    "        nilaiAkhir(mid, uas)\n",
    "    else :\n",
    "        print(\"Nama siswa tidak ada\")\n",
    "        break\n",
    "    \n",
    "    \n",
    "jawab = input(\"Input data Siswa [y/n]: \")\n",
    "if jawab == 'y':\n",
    "    nimbaru = input(\"Nim siswa: \")\n",
    "    namabaru = input(\"Nama siswa: \")\n",
    "    midbaru = int(input(\"Nilai mid: \"))\n",
    "    uasbaru = int(input(\"Nilai uas: \"))\n",
    "    menambahkanSiswa(nimbaru, namabaru, midbaru, uasbaru)\n",
    "else :\n",
    "    print(\"Ok.\")"
   ]
  },
  {
   "cell_type": "code",
   "execution_count": null,
   "id": "spectacular-chicken",
   "metadata": {},
   "outputs": [],
   "source": [
    "misal=[{'nama' : [aku, kamu, kita],\n",
    "       'jurusan' : [bio, kim, fis]}]\n",
    "misal = pd.DataFrame(misal)\n",
    "print(misal)"
   ]
  },
  {
   "cell_type": "code",
   "execution_count": null,
   "id": "metric-router",
   "metadata": {},
   "outputs": [],
   "source": []
  }
 ],
 "metadata": {
  "kernelspec": {
   "display_name": "Python 3",
   "language": "python",
   "name": "python3"
  },
  "language_info": {
   "codemirror_mode": {
    "name": "ipython",
    "version": 3
   },
   "file_extension": ".py",
   "mimetype": "text/x-python",
   "name": "python",
   "nbconvert_exporter": "python",
   "pygments_lexer": "ipython3",
   "version": "3.9.0"
  }
 },
 "nbformat": 4,
 "nbformat_minor": 5
}
